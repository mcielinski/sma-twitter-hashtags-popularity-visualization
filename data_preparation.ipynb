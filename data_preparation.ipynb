{
 "cells": [
  {
   "cell_type": "code",
   "execution_count": 1,
   "metadata": {},
   "outputs": [],
   "source": [
    "import pandas as pd\n",
    "import numpy as np\n",
    "from tqdm import tqdm\n",
    "from functools import reduce\n",
    "from collections import Counter\n",
    "\n",
    "import warnings\n",
    "warnings.filterwarnings('ignore')"
   ]
  },
  {
   "cell_type": "markdown",
   "metadata": {},
   "source": [
    "### JSON FILES\n",
    "creating list of filenames + loading data to dataframes"
   ]
  },
  {
   "cell_type": "code",
   "execution_count": 2,
   "metadata": {},
   "outputs": [
    {
     "data": {
      "text/plain": [
       "['data/covid19_2020_02_15.json',\n",
       " 'data/covid19_2020_02_16.json',\n",
       " 'data/covid19_2020_02_17.json',\n",
       " 'data/covid19_2020_02_18.json',\n",
       " 'data/covid19_2020_02_19.json',\n",
       " 'data/covid19_2020_02_20.json',\n",
       " 'data/covid19_2020_02_21.json']"
      ]
     },
     "execution_count": 2,
     "metadata": {},
     "output_type": "execute_result"
    }
   ],
   "source": [
    "#filelist\n",
    "filelist = []\n",
    "filename_part = 'data/covid19_2020_02_'\n",
    "\n",
    "for i in range(15,22):\n",
    "#for i in range(15,17):\n",
    "    filelist.append(filename_part + str(i) + '.json')\n",
    "\n",
    "filelist"
   ]
  },
  {
   "cell_type": "code",
   "execution_count": 3,
   "metadata": {
    "scrolled": true
   },
   "outputs": [
    {
     "name": "stderr",
     "output_type": "stream",
     "text": [
      "100%|██████████| 7/7 [02:14<00:00, 19.21s/it]\n"
     ]
    }
   ],
   "source": [
    "#read files into pandas\n",
    "#df = pd.read_json('data/covid19_2020_02_15.json', lines=True) # 15-21\n",
    "df_list = [pd.read_json(file, lines=True) for file in tqdm(filelist)]"
   ]
  },
  {
   "cell_type": "code",
   "execution_count": 4,
   "metadata": {
    "scrolled": false
   },
   "outputs": [
    {
     "data": {
      "text/html": [
       "<div>\n",
       "<style scoped>\n",
       "    .dataframe tbody tr th:only-of-type {\n",
       "        vertical-align: middle;\n",
       "    }\n",
       "\n",
       "    .dataframe tbody tr th {\n",
       "        vertical-align: top;\n",
       "    }\n",
       "\n",
       "    .dataframe thead th {\n",
       "        text-align: right;\n",
       "    }\n",
       "</style>\n",
       "<table border=\"1\" class=\"dataframe\">\n",
       "  <thead>\n",
       "    <tr style=\"text-align: right;\">\n",
       "      <th></th>\n",
       "      <th>tweet_id</th>\n",
       "      <th>user_id</th>\n",
       "      <th>date</th>\n",
       "      <th>keywords</th>\n",
       "      <th>location</th>\n",
       "    </tr>\n",
       "  </thead>\n",
       "  <tbody>\n",
       "    <tr>\n",
       "      <th>0</th>\n",
       "      <td>1228544443910959105</td>\n",
       "      <td>4328344283</td>\n",
       "      <td>2020-02-15 04:59:55+00:00</td>\n",
       "      <td>[coronavirus]</td>\n",
       "      <td>None</td>\n",
       "    </tr>\n",
       "    <tr>\n",
       "      <th>1</th>\n",
       "      <td>1228544444539924480</td>\n",
       "      <td>808810829797670912</td>\n",
       "      <td>2020-02-15 04:59:55+00:00</td>\n",
       "      <td>[coronavirus, covid19]</td>\n",
       "      <td>None</td>\n",
       "    </tr>\n",
       "    <tr>\n",
       "      <th>2</th>\n",
       "      <td>1228544445978562560</td>\n",
       "      <td>71977357</td>\n",
       "      <td>2020-02-15 04:59:55+00:00</td>\n",
       "      <td>[coronavirus]</td>\n",
       "      <td>None</td>\n",
       "    </tr>\n",
       "    <tr>\n",
       "      <th>3</th>\n",
       "      <td>1228544446830018560</td>\n",
       "      <td>1219954720397152257</td>\n",
       "      <td>2020-02-15 04:59:56+00:00</td>\n",
       "      <td>[2019ncov]</td>\n",
       "      <td>None</td>\n",
       "    </tr>\n",
       "    <tr>\n",
       "      <th>4</th>\n",
       "      <td>1228544447450796032</td>\n",
       "      <td>944505310806360064</td>\n",
       "      <td>2020-02-15 04:59:56+00:00</td>\n",
       "      <td>[coronavirus]</td>\n",
       "      <td>None</td>\n",
       "    </tr>\n",
       "    <tr>\n",
       "      <th>...</th>\n",
       "      <td>...</td>\n",
       "      <td>...</td>\n",
       "      <td>...</td>\n",
       "      <td>...</td>\n",
       "      <td>...</td>\n",
       "    </tr>\n",
       "    <tr>\n",
       "      <th>463124</th>\n",
       "      <td>1228906827196186624</td>\n",
       "      <td>1125735079412502530</td>\n",
       "      <td>2020-02-16 04:59:54+00:00</td>\n",
       "      <td>[coronavirus]</td>\n",
       "      <td>{'country': 'Hong Kong', 'state': 'Hong Kong I...</td>\n",
       "    </tr>\n",
       "    <tr>\n",
       "      <th>463125</th>\n",
       "      <td>1228906827691237376</td>\n",
       "      <td>1942312542</td>\n",
       "      <td>2020-02-16 04:59:54+00:00</td>\n",
       "      <td>[wuhan, coronavirus]</td>\n",
       "      <td>None</td>\n",
       "    </tr>\n",
       "    <tr>\n",
       "      <th>463126</th>\n",
       "      <td>1228906828760698880</td>\n",
       "      <td>93835628</td>\n",
       "      <td>2020-02-16 04:59:54+00:00</td>\n",
       "      <td>[coronavirus]</td>\n",
       "      <td>{'country': 'Hong Kong', 'state': 'Hong Kong I...</td>\n",
       "    </tr>\n",
       "    <tr>\n",
       "      <th>463127</th>\n",
       "      <td>1228906829461090304</td>\n",
       "      <td>860664355297181696</td>\n",
       "      <td>2020-02-16 04:59:54+00:00</td>\n",
       "      <td>[coronavirus]</td>\n",
       "      <td>None</td>\n",
       "    </tr>\n",
       "    <tr>\n",
       "      <th>463128</th>\n",
       "      <td>1228906829704380417</td>\n",
       "      <td>418394758</td>\n",
       "      <td>2020-02-16 04:59:54+00:00</td>\n",
       "      <td>[coronavirus]</td>\n",
       "      <td>None</td>\n",
       "    </tr>\n",
       "  </tbody>\n",
       "</table>\n",
       "<p>463129 rows × 5 columns</p>\n",
       "</div>"
      ],
      "text/plain": [
       "                   tweet_id              user_id                      date  \\\n",
       "0       1228544443910959105           4328344283 2020-02-15 04:59:55+00:00   \n",
       "1       1228544444539924480   808810829797670912 2020-02-15 04:59:55+00:00   \n",
       "2       1228544445978562560             71977357 2020-02-15 04:59:55+00:00   \n",
       "3       1228544446830018560  1219954720397152257 2020-02-15 04:59:56+00:00   \n",
       "4       1228544447450796032   944505310806360064 2020-02-15 04:59:56+00:00   \n",
       "...                     ...                  ...                       ...   \n",
       "463124  1228906827196186624  1125735079412502530 2020-02-16 04:59:54+00:00   \n",
       "463125  1228906827691237376           1942312542 2020-02-16 04:59:54+00:00   \n",
       "463126  1228906828760698880             93835628 2020-02-16 04:59:54+00:00   \n",
       "463127  1228906829461090304   860664355297181696 2020-02-16 04:59:54+00:00   \n",
       "463128  1228906829704380417            418394758 2020-02-16 04:59:54+00:00   \n",
       "\n",
       "                      keywords  \\\n",
       "0                [coronavirus]   \n",
       "1       [coronavirus, covid19]   \n",
       "2                [coronavirus]   \n",
       "3                   [2019ncov]   \n",
       "4                [coronavirus]   \n",
       "...                        ...   \n",
       "463124           [coronavirus]   \n",
       "463125    [wuhan, coronavirus]   \n",
       "463126           [coronavirus]   \n",
       "463127           [coronavirus]   \n",
       "463128           [coronavirus]   \n",
       "\n",
       "                                                 location  \n",
       "0                                                    None  \n",
       "1                                                    None  \n",
       "2                                                    None  \n",
       "3                                                    None  \n",
       "4                                                    None  \n",
       "...                                                   ...  \n",
       "463124  {'country': 'Hong Kong', 'state': 'Hong Kong I...  \n",
       "463125                                               None  \n",
       "463126  {'country': 'Hong Kong', 'state': 'Hong Kong I...  \n",
       "463127                                               None  \n",
       "463128                                               None  \n",
       "\n",
       "[463129 rows x 5 columns]"
      ]
     },
     "execution_count": 4,
     "metadata": {},
     "output_type": "execute_result"
    }
   ],
   "source": [
    "df_list[0]"
   ]
  },
  {
   "cell_type": "markdown",
   "metadata": {},
   "source": [
    "### COUNT COVID-RELATED HASHTAGS OVER COUNTRIES\n",
    "filtering the data content + separating country information for each data instance + counting the number of COVID-related tweets for each country + new dataframe with counts divided into dates"
   ]
  },
  {
   "cell_type": "code",
   "execution_count": 5,
   "metadata": {
    "scrolled": true
   },
   "outputs": [
    {
     "name": "stdout",
     "output_type": "stream",
     "text": [
      "0  -  (463129, 5)\n",
      "1  -  (454233, 5)\n",
      "2  -  (497281, 5)\n",
      "3  -  (752972, 5)\n",
      "4  -  (494639, 5)\n",
      "5  -  (586811, 5)\n",
      "6  -  (845044, 5)\n"
     ]
    }
   ],
   "source": [
    "for i, df in enumerate(df_list):\n",
    "    print(i, ' - ', df.shape)\n",
    "\n",
    "#df_list[0].head(10)"
   ]
  },
  {
   "cell_type": "code",
   "execution_count": 6,
   "metadata": {},
   "outputs": [
    {
     "name": "stdout",
     "output_type": "stream",
     "text": [
      "0  -  (463129, 5)\n",
      "1  -  (454233, 5)\n",
      "2  -  (497281, 5)\n",
      "3  -  (752972, 5)\n",
      "4  -  (494639, 5)\n",
      "5  -  (586811, 5)\n",
      "6  -  (845044, 5)\n"
     ]
    }
   ],
   "source": [
    "for i, df in enumerate(df_list):\n",
    "    location_not_none = df['location'].notnull()\n",
    "    df_list[i] = df[location_not_none]\n",
    "    print(i, ' - ', df.shape)\n",
    "\n",
    "#df_list[0].head(10)"
   ]
  },
  {
   "cell_type": "code",
   "execution_count": 7,
   "metadata": {},
   "outputs": [
    {
     "name": "stdout",
     "output_type": "stream",
     "text": [
      "0  -  (155270, 6)\n",
      "1  -  (157225, 6)\n",
      "2  -  (179835, 6)\n",
      "3  -  (272787, 6)\n",
      "4  -  (173622, 6)\n",
      "5  -  (209851, 6)\n",
      "6  -  (263832, 6)\n"
     ]
    }
   ],
   "source": [
    "for i, df in enumerate(df_list):\n",
    "    df_list[i]['country'] = df['location'].apply(lambda x: x['country'])\n",
    "    print(i, ' - ', df.shape)\n",
    "\n",
    "#df_list[0].head(10)"
   ]
  },
  {
   "cell_type": "code",
   "execution_count": 8,
   "metadata": {},
   "outputs": [
    {
     "name": "stdout",
     "output_type": "stream",
     "text": [
      "0  -  (178, 2)\n",
      "1  -  (178, 2)\n",
      "2  -  (178, 2)\n",
      "3  -  (180, 2)\n",
      "4  -  (177, 2)\n",
      "5  -  (176, 2)\n",
      "6  -  (180, 2)\n"
     ]
    }
   ],
   "source": [
    "counts_df_list = []\n",
    "\n",
    "for i, df in enumerate(df_list):\n",
    "    counts_df_list.append(df['country'].value_counts().rename_axis('country').reset_index(name='counts'))\n",
    "    print(i, ' - ', counts_df_list[i].shape)\n",
    "    \n",
    "#counts_df_list[2]"
   ]
  },
  {
   "cell_type": "code",
   "execution_count": 9,
   "metadata": {
    "scrolled": false
   },
   "outputs": [
    {
     "data": {
      "text/html": [
       "<div>\n",
       "<style scoped>\n",
       "    .dataframe tbody tr th:only-of-type {\n",
       "        vertical-align: middle;\n",
       "    }\n",
       "\n",
       "    .dataframe tbody tr th {\n",
       "        vertical-align: top;\n",
       "    }\n",
       "\n",
       "    .dataframe thead th {\n",
       "        text-align: right;\n",
       "    }\n",
       "</style>\n",
       "<table border=\"1\" class=\"dataframe\">\n",
       "  <thead>\n",
       "    <tr style=\"text-align: right;\">\n",
       "      <th></th>\n",
       "      <th>country</th>\n",
       "      <th>2020-02-15</th>\n",
       "      <th>2020-02-16</th>\n",
       "      <th>2020-02-17</th>\n",
       "      <th>2020-02-18</th>\n",
       "      <th>2020-02-19</th>\n",
       "      <th>2020-02-20</th>\n",
       "      <th>2020-02-21</th>\n",
       "    </tr>\n",
       "  </thead>\n",
       "  <tbody>\n",
       "    <tr>\n",
       "      <th>0</th>\n",
       "      <td>United States</td>\n",
       "      <td>52144</td>\n",
       "      <td>60264</td>\n",
       "      <td>68712</td>\n",
       "      <td>111692</td>\n",
       "      <td>61063</td>\n",
       "      <td>79299</td>\n",
       "      <td>91301</td>\n",
       "    </tr>\n",
       "    <tr>\n",
       "      <th>1</th>\n",
       "      <td>United Kingdom</td>\n",
       "      <td>9822</td>\n",
       "      <td>8953</td>\n",
       "      <td>10266</td>\n",
       "      <td>16386</td>\n",
       "      <td>9688</td>\n",
       "      <td>10860</td>\n",
       "      <td>13590</td>\n",
       "    </tr>\n",
       "    <tr>\n",
       "      <th>2</th>\n",
       "      <td>France</td>\n",
       "      <td>7058</td>\n",
       "      <td>9870</td>\n",
       "      <td>8850</td>\n",
       "      <td>11339</td>\n",
       "      <td>6598</td>\n",
       "      <td>9438</td>\n",
       "      <td>10391</td>\n",
       "    </tr>\n",
       "    <tr>\n",
       "      <th>3</th>\n",
       "      <td>India</td>\n",
       "      <td>7032</td>\n",
       "      <td>7694</td>\n",
       "      <td>8172</td>\n",
       "      <td>13261</td>\n",
       "      <td>7360</td>\n",
       "      <td>7494</td>\n",
       "      <td>9318</td>\n",
       "    </tr>\n",
       "    <tr>\n",
       "      <th>4</th>\n",
       "      <td>Canada</td>\n",
       "      <td>5846</td>\n",
       "      <td>5864</td>\n",
       "      <td>6538</td>\n",
       "      <td>9476</td>\n",
       "      <td>5739</td>\n",
       "      <td>7763</td>\n",
       "      <td>9490</td>\n",
       "    </tr>\n",
       "    <tr>\n",
       "      <th>...</th>\n",
       "      <td>...</td>\n",
       "      <td>...</td>\n",
       "      <td>...</td>\n",
       "      <td>...</td>\n",
       "      <td>...</td>\n",
       "      <td>...</td>\n",
       "      <td>...</td>\n",
       "      <td>...</td>\n",
       "    </tr>\n",
       "    <tr>\n",
       "      <th>179</th>\n",
       "      <td>Seychelles</td>\n",
       "      <td>0</td>\n",
       "      <td>2</td>\n",
       "      <td>3</td>\n",
       "      <td>2</td>\n",
       "      <td>4</td>\n",
       "      <td>2</td>\n",
       "      <td>2</td>\n",
       "    </tr>\n",
       "    <tr>\n",
       "      <th>180</th>\n",
       "      <td>Saint Vincent and the Grenadines</td>\n",
       "      <td>0</td>\n",
       "      <td>1</td>\n",
       "      <td>1</td>\n",
       "      <td>3</td>\n",
       "      <td>1</td>\n",
       "      <td>0</td>\n",
       "      <td>4</td>\n",
       "    </tr>\n",
       "    <tr>\n",
       "      <th>181</th>\n",
       "      <td>Netherlands Antilles</td>\n",
       "      <td>0</td>\n",
       "      <td>1</td>\n",
       "      <td>0</td>\n",
       "      <td>4</td>\n",
       "      <td>0</td>\n",
       "      <td>1</td>\n",
       "      <td>2</td>\n",
       "    </tr>\n",
       "    <tr>\n",
       "      <th>182</th>\n",
       "      <td>South Georgia and the South Sandwich Islands</td>\n",
       "      <td>0</td>\n",
       "      <td>0</td>\n",
       "      <td>5</td>\n",
       "      <td>3</td>\n",
       "      <td>1</td>\n",
       "      <td>8</td>\n",
       "      <td>7</td>\n",
       "    </tr>\n",
       "    <tr>\n",
       "      <th>183</th>\n",
       "      <td>Turkmenistan</td>\n",
       "      <td>0</td>\n",
       "      <td>0</td>\n",
       "      <td>1</td>\n",
       "      <td>0</td>\n",
       "      <td>0</td>\n",
       "      <td>0</td>\n",
       "      <td>0</td>\n",
       "    </tr>\n",
       "  </tbody>\n",
       "</table>\n",
       "<p>184 rows × 8 columns</p>\n",
       "</div>"
      ],
      "text/plain": [
       "                                          country  2020-02-15  2020-02-16  \\\n",
       "0                                   United States       52144       60264   \n",
       "1                                  United Kingdom        9822        8953   \n",
       "2                                          France        7058        9870   \n",
       "3                                           India        7032        7694   \n",
       "4                                          Canada        5846        5864   \n",
       "..                                            ...         ...         ...   \n",
       "179                                    Seychelles           0           2   \n",
       "180              Saint Vincent and the Grenadines           0           1   \n",
       "181                          Netherlands Antilles           0           1   \n",
       "182  South Georgia and the South Sandwich Islands           0           0   \n",
       "183                                  Turkmenistan           0           0   \n",
       "\n",
       "     2020-02-17  2020-02-18  2020-02-19  2020-02-20  2020-02-21  \n",
       "0         68712      111692       61063       79299       91301  \n",
       "1         10266       16386        9688       10860       13590  \n",
       "2          8850       11339        6598        9438       10391  \n",
       "3          8172       13261        7360        7494        9318  \n",
       "4          6538        9476        5739        7763        9490  \n",
       "..          ...         ...         ...         ...         ...  \n",
       "179           3           2           4           2           2  \n",
       "180           1           3           1           0           4  \n",
       "181           0           4           0           1           2  \n",
       "182           5           3           1           8           7  \n",
       "183           1           0           0           0           0  \n",
       "\n",
       "[184 rows x 8 columns]"
      ]
     },
     "execution_count": 9,
     "metadata": {},
     "output_type": "execute_result"
    }
   ],
   "source": [
    "counts_df = reduce(lambda left,right: pd.merge(left, right, on='country', how='outer'), counts_df_list)\n",
    "\n",
    "counts_df.columns = ['country', '2020-02-15', '2020-02-16', '2020-02-17', \n",
    "                     '2020-02-18', '2020-02-19', '2020-02-20', '2020-02-21']\n",
    "\n",
    "\n",
    "#df['column name'] = df['column name'].fillna(0).astype(np.int64)\n",
    "#counts_df.dtypes\n",
    "\n",
    "counts_df = counts_df.fillna(0).astype({'2020-02-15': np.int64, '2020-02-16': np.int64, \n",
    "                                        '2020-02-17': np.int64, '2020-02-18': np.int64,\n",
    "                                        '2020-02-19': np.int64, '2020-02-20': np.int64,\n",
    "                                        '2020-02-21': np.int64})\n",
    "\n",
    "counts_df"
   ]
  },
  {
   "cell_type": "code",
   "execution_count": 299,
   "metadata": {},
   "outputs": [],
   "source": [
    "#SAVE COUNTS DATAFRAME TO CSV\n",
    "counts_df.to_csv('out/count_of_COVID_hashtags_over_countries_.csv')"
   ]
  },
  {
   "cell_type": "markdown",
   "metadata": {},
   "source": [
    "### MOST FREQUENT KEYWORDS\n",
    "listing keywords for each country + finding the most common keyword for each country"
   ]
  },
  {
   "cell_type": "code",
   "execution_count": 10,
   "metadata": {},
   "outputs": [
    {
     "name": "stdout",
     "output_type": "stream",
     "text": [
      "(1412422, 6)\n",
      "(184, 2)\n"
     ]
    },
    {
     "data": {
      "text/html": [
       "<div>\n",
       "<style scoped>\n",
       "    .dataframe tbody tr th:only-of-type {\n",
       "        vertical-align: middle;\n",
       "    }\n",
       "\n",
       "    .dataframe tbody tr th {\n",
       "        vertical-align: top;\n",
       "    }\n",
       "\n",
       "    .dataframe thead th {\n",
       "        text-align: right;\n",
       "    }\n",
       "</style>\n",
       "<table border=\"1\" class=\"dataframe\">\n",
       "  <thead>\n",
       "    <tr style=\"text-align: right;\">\n",
       "      <th></th>\n",
       "      <th>country</th>\n",
       "      <th>keywords</th>\n",
       "    </tr>\n",
       "  </thead>\n",
       "  <tbody>\n",
       "    <tr>\n",
       "      <th>0</th>\n",
       "      <td>Afghanistan</td>\n",
       "      <td>[[coronavirus], [coronavirus], [coronavirus], ...</td>\n",
       "    </tr>\n",
       "    <tr>\n",
       "      <th>1</th>\n",
       "      <td>Albania</td>\n",
       "      <td>[[coronavirus], [coronavirus], [coronavirus], ...</td>\n",
       "    </tr>\n",
       "    <tr>\n",
       "      <th>2</th>\n",
       "      <td>Algeria</td>\n",
       "      <td>[[coronavirus], [coronavirus], [coronavirus, w...</td>\n",
       "    </tr>\n",
       "    <tr>\n",
       "      <th>3</th>\n",
       "      <td>Andorra</td>\n",
       "      <td>[[coronavirus], [coronavirus], [coronavirus], ...</td>\n",
       "    </tr>\n",
       "    <tr>\n",
       "      <th>4</th>\n",
       "      <td>Angola</td>\n",
       "      <td>[[coronavirus], [covid], [coronavirus], [coron...</td>\n",
       "    </tr>\n",
       "    <tr>\n",
       "      <th>...</th>\n",
       "      <td>...</td>\n",
       "      <td>...</td>\n",
       "    </tr>\n",
       "    <tr>\n",
       "      <th>179</th>\n",
       "      <td>Venezuela</td>\n",
       "      <td>[[coronavirus], [coronavirus], [coronavirus], ...</td>\n",
       "    </tr>\n",
       "    <tr>\n",
       "      <th>180</th>\n",
       "      <td>Vietnam</td>\n",
       "      <td>[[wuhan], [covid], [coronavirus], [covid19, co...</td>\n",
       "    </tr>\n",
       "    <tr>\n",
       "      <th>181</th>\n",
       "      <td>Yemen</td>\n",
       "      <td>[[coronavirus], [coronavirus], [coronavirus], ...</td>\n",
       "    </tr>\n",
       "    <tr>\n",
       "      <th>182</th>\n",
       "      <td>Zambia</td>\n",
       "      <td>[[coronavirus], [coronavirus], [wuhan], [coron...</td>\n",
       "    </tr>\n",
       "    <tr>\n",
       "      <th>183</th>\n",
       "      <td>Zimbabwe</td>\n",
       "      <td>[[coronavirus], [coronavirus], [coronavirus], ...</td>\n",
       "    </tr>\n",
       "  </tbody>\n",
       "</table>\n",
       "<p>184 rows × 2 columns</p>\n",
       "</div>"
      ],
      "text/plain": [
       "         country                                           keywords\n",
       "0    Afghanistan  [[coronavirus], [coronavirus], [coronavirus], ...\n",
       "1        Albania  [[coronavirus], [coronavirus], [coronavirus], ...\n",
       "2        Algeria  [[coronavirus], [coronavirus], [coronavirus, w...\n",
       "3        Andorra  [[coronavirus], [coronavirus], [coronavirus], ...\n",
       "4         Angola  [[coronavirus], [covid], [coronavirus], [coron...\n",
       "..           ...                                                ...\n",
       "179    Venezuela  [[coronavirus], [coronavirus], [coronavirus], ...\n",
       "180      Vietnam  [[wuhan], [covid], [coronavirus], [covid19, co...\n",
       "181        Yemen  [[coronavirus], [coronavirus], [coronavirus], ...\n",
       "182       Zambia  [[coronavirus], [coronavirus], [wuhan], [coron...\n",
       "183     Zimbabwe  [[coronavirus], [coronavirus], [coronavirus], ...\n",
       "\n",
       "[184 rows x 2 columns]"
      ]
     },
     "execution_count": 10,
     "metadata": {},
     "output_type": "execute_result"
    }
   ],
   "source": [
    "df = pd.concat(df_list, ignore_index=True)\n",
    "\n",
    "print(df.shape)\n",
    "\n",
    "keywords_df = pd.DataFrame(df.groupby(['country']).keywords.apply(list).reset_index(name='keywords'))\n",
    "\n",
    "print(keywords_df.shape)\n",
    "\n",
    "keywords_df"
   ]
  },
  {
   "cell_type": "code",
   "execution_count": 11,
   "metadata": {},
   "outputs": [
    {
     "data": {
      "text/plain": [
       "184"
      ]
     },
     "execution_count": 11,
     "metadata": {},
     "output_type": "execute_result"
    }
   ],
   "source": [
    "keywords_list = keywords_df['keywords'].to_list()\n",
    "\n",
    "keywords_list_flaten = []\n",
    "\n",
    "for sublist in keywords_list:\n",
    "    keywords_list_flaten.append(list([y for x in sublist for y in x]))\n",
    "\n",
    "keywords_modes = [Counter(l).most_common(1)[0][0] for l in keywords_list_flaten]\n",
    "\n",
    "len(keywords_modes)"
   ]
  },
  {
   "cell_type": "code",
   "execution_count": 12,
   "metadata": {},
   "outputs": [
    {
     "name": "stdout",
     "output_type": "stream",
     "text": [
      "coronavirus    182\n",
      "wuhan            2\n",
      "Name: mode_keyword, dtype: int64\n"
     ]
    },
    {
     "data": {
      "text/html": [
       "<div>\n",
       "<style scoped>\n",
       "    .dataframe tbody tr th:only-of-type {\n",
       "        vertical-align: middle;\n",
       "    }\n",
       "\n",
       "    .dataframe tbody tr th {\n",
       "        vertical-align: top;\n",
       "    }\n",
       "\n",
       "    .dataframe thead th {\n",
       "        text-align: right;\n",
       "    }\n",
       "</style>\n",
       "<table border=\"1\" class=\"dataframe\">\n",
       "  <thead>\n",
       "    <tr style=\"text-align: right;\">\n",
       "      <th></th>\n",
       "      <th>country</th>\n",
       "      <th>mode_keyword</th>\n",
       "    </tr>\n",
       "  </thead>\n",
       "  <tbody>\n",
       "    <tr>\n",
       "      <th>0</th>\n",
       "      <td>Afghanistan</td>\n",
       "      <td>coronavirus</td>\n",
       "    </tr>\n",
       "    <tr>\n",
       "      <th>1</th>\n",
       "      <td>Albania</td>\n",
       "      <td>coronavirus</td>\n",
       "    </tr>\n",
       "    <tr>\n",
       "      <th>2</th>\n",
       "      <td>Algeria</td>\n",
       "      <td>coronavirus</td>\n",
       "    </tr>\n",
       "    <tr>\n",
       "      <th>3</th>\n",
       "      <td>Andorra</td>\n",
       "      <td>coronavirus</td>\n",
       "    </tr>\n",
       "    <tr>\n",
       "      <th>4</th>\n",
       "      <td>Angola</td>\n",
       "      <td>coronavirus</td>\n",
       "    </tr>\n",
       "    <tr>\n",
       "      <th>...</th>\n",
       "      <td>...</td>\n",
       "      <td>...</td>\n",
       "    </tr>\n",
       "    <tr>\n",
       "      <th>179</th>\n",
       "      <td>Venezuela</td>\n",
       "      <td>coronavirus</td>\n",
       "    </tr>\n",
       "    <tr>\n",
       "      <th>180</th>\n",
       "      <td>Vietnam</td>\n",
       "      <td>coronavirus</td>\n",
       "    </tr>\n",
       "    <tr>\n",
       "      <th>181</th>\n",
       "      <td>Yemen</td>\n",
       "      <td>coronavirus</td>\n",
       "    </tr>\n",
       "    <tr>\n",
       "      <th>182</th>\n",
       "      <td>Zambia</td>\n",
       "      <td>coronavirus</td>\n",
       "    </tr>\n",
       "    <tr>\n",
       "      <th>183</th>\n",
       "      <td>Zimbabwe</td>\n",
       "      <td>coronavirus</td>\n",
       "    </tr>\n",
       "  </tbody>\n",
       "</table>\n",
       "<p>184 rows × 2 columns</p>\n",
       "</div>"
      ],
      "text/plain": [
       "         country mode_keyword\n",
       "0    Afghanistan  coronavirus\n",
       "1        Albania  coronavirus\n",
       "2        Algeria  coronavirus\n",
       "3        Andorra  coronavirus\n",
       "4         Angola  coronavirus\n",
       "..           ...          ...\n",
       "179    Venezuela  coronavirus\n",
       "180      Vietnam  coronavirus\n",
       "181        Yemen  coronavirus\n",
       "182       Zambia  coronavirus\n",
       "183     Zimbabwe  coronavirus\n",
       "\n",
       "[184 rows x 2 columns]"
      ]
     },
     "execution_count": 12,
     "metadata": {},
     "output_type": "execute_result"
    }
   ],
   "source": [
    "keywords_df['mode_keyword'] = np.array(keywords_modes)\n",
    "\n",
    "#botswana_hashtags = keywords_df['keywords'].loc[keywords_df['country'] == 'Botswana'].to_list()\n",
    "#botswana_hashtags\n",
    "\n",
    "#keywords_df\n",
    "\n",
    "mode_keywords_df = keywords_df.drop('keywords', 1)\n",
    "print(mode_keywords_df['mode_keyword'].value_counts())\n",
    "mode_keywords_df"
   ]
  },
  {
   "cell_type": "code",
   "execution_count": 29,
   "metadata": {},
   "outputs": [],
   "source": [
    "#SAVE MODES DATAFRAME TO CSV\n",
    "mode_keywords_df.to_csv('out/prefered_hashtags_over_countries.csv')"
   ]
  },
  {
   "cell_type": "code",
   "execution_count": null,
   "metadata": {},
   "outputs": [],
   "source": []
  },
  {
   "cell_type": "code",
   "execution_count": null,
   "metadata": {},
   "outputs": [],
   "source": []
  },
  {
   "cell_type": "code",
   "execution_count": null,
   "metadata": {},
   "outputs": [],
   "source": []
  },
  {
   "cell_type": "code",
   "execution_count": null,
   "metadata": {},
   "outputs": [],
   "source": []
  },
  {
   "cell_type": "code",
   "execution_count": null,
   "metadata": {},
   "outputs": [],
   "source": []
  },
  {
   "cell_type": "code",
   "execution_count": null,
   "metadata": {},
   "outputs": [],
   "source": []
  },
  {
   "cell_type": "markdown",
   "metadata": {},
   "source": [
    "### OTHER"
   ]
  },
  {
   "cell_type": "code",
   "execution_count": null,
   "metadata": {},
   "outputs": [],
   "source": [
    "mode_df = df[['country']]\n",
    "mode_df = mode_df.drop_duplicates(subset=['country'])\n",
    "mode_df.sort_values(by=['country'], inplace=True)\n",
    "mode_df.reset_index(drop=True, inplace=True)\n",
    "mode_df['mode_keyword'] = np.array(keywords_mode)\n",
    "\n",
    "mode_df['mode_keyword'].value_counts()\n",
    "mode_df.head()"
   ]
  },
  {
   "cell_type": "code",
   "execution_count": null,
   "metadata": {},
   "outputs": [],
   "source": [
    "df['country'] = df['location'].apply(lambda x: x['country'])\n",
    "#df1 = pd.DataFrame(df['country'].value_counts())\n",
    "#df1.columns = ['country', 'occurences']\n",
    "\n",
    "df1 = df['country'].value_counts().rename_axis('country').reset_index(name='counts')\n",
    "df1"
   ]
  }
 ],
 "metadata": {
  "kernelspec": {
   "display_name": "Python 3",
   "language": "python",
   "name": "python3"
  },
  "language_info": {
   "codemirror_mode": {
    "name": "ipython",
    "version": 3
   },
   "file_extension": ".py",
   "mimetype": "text/x-python",
   "name": "python",
   "nbconvert_exporter": "python",
   "pygments_lexer": "ipython3",
   "version": "3.7.7"
  }
 },
 "nbformat": 4,
 "nbformat_minor": 4
}
